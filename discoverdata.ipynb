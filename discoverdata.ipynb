{
  "nbformat": 4,
  "nbformat_minor": 0,
  "metadata": {
    "colab": {
      "provenance": [],
      "toc_visible": true
    },
    "kernelspec": {
      "name": "python3",
      "display_name": "Python 3"
    },
    "language_info": {
      "name": "python"
    }
  },
  "cells": [
    {
      "cell_type": "markdown",
      "source": [
        "Data Wrangling"
      ],
      "metadata": {
        "id": "jYiIIBUE0w43"
      }
    },
    {
      "cell_type": "code",
      "execution_count": 119,
      "metadata": {
        "id": "piDgJGQGJSZW"
      },
      "outputs": [],
      "source": [
        "import pandas as pd\n",
        "import numpy as np\n",
        "\n",
        "df = pd.read_excel('Discover.xlsx')"
      ]
    },
    {
      "cell_type": "markdown",
      "source": [
        "Filtering out all the data that I don't want to analyze\n"
      ],
      "metadata": {
        "id": "Yp1agqPH03bh"
      }
    },
    {
      "cell_type": "code",
      "source": [
        "# fliter for the 2023 year\n",
        "filtered_year = df[('2022-12-31' < df['Trans. date']) & ('2024-01-01' > df['Trans. date'])]\n",
        "\n",
        "# get rid of negative amounts\n",
        "filtered_neg = filtered_year[df['Amount'] > 0]\n",
        "print(filtered_neg)"
      ],
      "metadata": {
        "colab": {
          "base_uri": "https://localhost:8080/"
        },
        "id": "Vgd9eJ3G0tAD",
        "outputId": "4bb5cf34-92a5-46ec-b8d7-5754decbc137"
      },
      "execution_count": 120,
      "outputs": [
        {
          "output_type": "stream",
          "name": "stdout",
          "text": [
            "    Trans. date                                        Description  Amount  \\\n",
            "261  2023-01-04                              ALIEXPRESS LONDON GBR   25.06   \n",
            "262  2023-01-05    SQ *YEH YEH'S LYNNWOOD WA0001152921512347440885    8.85   \n",
            "263  2023-01-05                    SUPRA RE 877-699-6787 FL8899238   13.87   \n",
            "264  2023-01-05               SYMMETRY PHYSICAL THERAP MUKILTEO WA  120.00   \n",
            "265  2023-01-07                       ROSS STORES #1319 SEATTLE WA   22.04   \n",
            "..          ...                                                ...     ...   \n",
            "536  2023-12-26  ARITZIA FORUM SHOPS LAS VEGAS NVAPPLE PAY ENDI...  390.15   \n",
            "538  2023-12-29                 PAYPAL *UNIQLO USA 402-935-7733 CA   65.95   \n",
            "539  2023-12-30                   T-MOBILE STORE # 0204 SEATTLE WA  421.34   \n",
            "540  2023-12-31                                 DOLLARTREE KENT WA    6.88   \n",
            "541  2023-12-31      IN *BUSHNELL REAL ESTA 425-5591355 WAASE2NNQJ   99.00   \n",
            "\n",
            "              Category  \n",
            "261  Department Stores  \n",
            "262        Restaurants  \n",
            "263           Services  \n",
            "264   Medical Services  \n",
            "265        Merchandise  \n",
            "..                 ...  \n",
            "536        Merchandise  \n",
            "538        Merchandise  \n",
            "539           Services  \n",
            "540        Merchandise  \n",
            "541           Services  \n",
            "\n",
            "[243 rows x 4 columns]\n"
          ]
        },
        {
          "output_type": "stream",
          "name": "stderr",
          "text": [
            "<ipython-input-120-6c81b5eb1152>:5: UserWarning: Boolean Series key will be reindexed to match DataFrame index.\n",
            "  filtered_neg = filtered_year[df['Amount'] > 0]\n"
          ]
        }
      ]
    },
    {
      "cell_type": "markdown",
      "source": [
        "Adding new categoies that are more relevant to me"
      ],
      "metadata": {
        "id": "eW3H-h6n1Fbt"
      }
    },
    {
      "cell_type": "code",
      "source": [
        "# creating a new df for the new categories\n",
        "Cat_df = filtered_neg.copy()\n",
        "#defining function filter\n",
        "def filter(x):\n",
        "    description = x[\"Description\"]\n",
        "    category = x[\"Category\"]\n",
        "    if \"ALIEXPRESS\" in description or \"BEADWORLD\" in description or \"PARADIJEWELRY\" in description:\n",
        "      return \"Jewelry Supplies\"\n",
        "    elif \"AMZN\" in description or \"AMAZON.COM\" in description:\n",
        "      return \"Amazon\"\n",
        "    elif \"SY PHARMACY\" in description:\n",
        "      return \"Medical Services\"\n",
        "    elif \"ULTASALONCO\" in description or \"ULTA\" in description:\n",
        "      return \"Beauty\"\n",
        "    elif \"BUSHNELL\" in description or \"SUPRA\" in description or \"4TE*KELLER\" in description or \"PRINTING\" in description or \"STAPLES\" in description:\n",
        "      return \"Home\"\n",
        "    elif \"TEA\" in description or \"BOBA\" in description or \"HAPPY LEMON\" in description or \"Mogee Tee\" in description:\n",
        "      return \"Boba\"\n",
        "    else:\n",
        "      return category\n",
        "\n",
        "#applying the filter function dataframe\n",
        "Cat_df['sub_category'] = filtered_neg.apply(filter, axis = 1)\n",
        "\n",
        "print(Cat_df)"
      ],
      "metadata": {
        "colab": {
          "base_uri": "https://localhost:8080/"
        },
        "id": "UwZ6YzwommL5",
        "outputId": "578f013e-d3b8-4d39-d5e4-a2c904355ed7"
      },
      "execution_count": 121,
      "outputs": [
        {
          "output_type": "stream",
          "name": "stdout",
          "text": [
            "    Trans. date                                        Description  Amount  \\\n",
            "261  2023-01-04                              ALIEXPRESS LONDON GBR   25.06   \n",
            "262  2023-01-05    SQ *YEH YEH'S LYNNWOOD WA0001152921512347440885    8.85   \n",
            "263  2023-01-05                    SUPRA RE 877-699-6787 FL8899238   13.87   \n",
            "264  2023-01-05               SYMMETRY PHYSICAL THERAP MUKILTEO WA  120.00   \n",
            "265  2023-01-07                       ROSS STORES #1319 SEATTLE WA   22.04   \n",
            "..          ...                                                ...     ...   \n",
            "536  2023-12-26  ARITZIA FORUM SHOPS LAS VEGAS NVAPPLE PAY ENDI...  390.15   \n",
            "538  2023-12-29                 PAYPAL *UNIQLO USA 402-935-7733 CA   65.95   \n",
            "539  2023-12-30                   T-MOBILE STORE # 0204 SEATTLE WA  421.34   \n",
            "540  2023-12-31                                 DOLLARTREE KENT WA    6.88   \n",
            "541  2023-12-31      IN *BUSHNELL REAL ESTA 425-5591355 WAASE2NNQJ   99.00   \n",
            "\n",
            "              Category      sub_category  \n",
            "261  Department Stores  Jewelry Supplies  \n",
            "262        Restaurants       Restaurants  \n",
            "263           Services              Home  \n",
            "264   Medical Services  Medical Services  \n",
            "265        Merchandise       Merchandise  \n",
            "..                 ...               ...  \n",
            "536        Merchandise       Merchandise  \n",
            "538        Merchandise       Merchandise  \n",
            "539           Services          Services  \n",
            "540        Merchandise       Merchandise  \n",
            "541           Services              Home  \n",
            "\n",
            "[243 rows x 5 columns]\n"
          ]
        }
      ]
    },
    {
      "cell_type": "markdown",
      "source": [
        "Doing quick analysis of my spendings"
      ],
      "metadata": {
        "id": "gEPcFq382Rs6"
      }
    },
    {
      "cell_type": "code",
      "source": [
        "# Total Spendings\n",
        "Cat_df[\"Amount\"].sum()\n"
      ],
      "metadata": {
        "colab": {
          "base_uri": "https://localhost:8080/"
        },
        "id": "murOyXKIpQvH",
        "outputId": "d79f9b32-cbdf-4b69-d4e8-a9cd469c8b10"
      },
      "execution_count": 72,
      "outputs": [
        {
          "output_type": "execute_result",
          "data": {
            "text/plain": [
              "7855.43"
            ]
          },
          "metadata": {},
          "execution_count": 72
        }
      ]
    },
    {
      "cell_type": "code",
      "source": [
        "# Total Transactions\n",
        "Cat_df[\"Trans. date\"].count()"
      ],
      "metadata": {
        "colab": {
          "base_uri": "https://localhost:8080/"
        },
        "id": "P8soGJKl2yUE",
        "outputId": "84f0a15a-c5ce-4472-d5f1-2cdc80d3e66a"
      },
      "execution_count": 73,
      "outputs": [
        {
          "output_type": "execute_result",
          "data": {
            "text/plain": [
              "243"
            ]
          },
          "metadata": {},
          "execution_count": 73
        }
      ]
    },
    {
      "cell_type": "code",
      "source": [
        "# Total Spendings for each category\n",
        "Cat_df.groupby(\"sub_category\").sum()"
      ],
      "metadata": {
        "colab": {
          "base_uri": "https://localhost:8080/",
          "height": 574
        },
        "id": "KA2SPolV3OW9",
        "outputId": "f3b3d348-a7aa-493c-8b47-91872986122e"
      },
      "execution_count": 86,
      "outputs": [
        {
          "output_type": "stream",
          "name": "stderr",
          "text": [
            "<ipython-input-86-deb6795f84fc>:2: FutureWarning: The default value of numeric_only in DataFrameGroupBy.sum is deprecated. In a future version, numeric_only will default to False. Either specify numeric_only or select only columns which should be valid for the function.\n",
            "  Cat_df.groupby(\"sub_category\").sum()\n"
          ]
        },
        {
          "output_type": "execute_result",
          "data": {
            "text/plain": [
              "                        Amount\n",
              "sub_category                  \n",
              "Amazon                 1229.12\n",
              "Beauty                  556.08\n",
              "Boba                     87.72\n",
              "Education                94.09\n",
              "Government Services       2.00\n",
              "Home                   1106.18\n",
              "Home Improvement         41.22\n",
              "Jewelry Supplies        208.89\n",
              "Medical Services        375.66\n",
              "Merchandise            1587.79\n",
              "Restaurants            1013.36\n",
              "Services                601.70\n",
              "Supermarkets            382.36\n",
              "Travel/ Entertainment   569.26"
            ],
            "text/html": [
              "\n",
              "  <div id=\"df-8d28d48d-fcee-4c45-9568-47c9f6bc3983\" class=\"colab-df-container\">\n",
              "    <div>\n",
              "<style scoped>\n",
              "    .dataframe tbody tr th:only-of-type {\n",
              "        vertical-align: middle;\n",
              "    }\n",
              "\n",
              "    .dataframe tbody tr th {\n",
              "        vertical-align: top;\n",
              "    }\n",
              "\n",
              "    .dataframe thead th {\n",
              "        text-align: right;\n",
              "    }\n",
              "</style>\n",
              "<table border=\"1\" class=\"dataframe\">\n",
              "  <thead>\n",
              "    <tr style=\"text-align: right;\">\n",
              "      <th></th>\n",
              "      <th>Amount</th>\n",
              "    </tr>\n",
              "    <tr>\n",
              "      <th>sub_category</th>\n",
              "      <th></th>\n",
              "    </tr>\n",
              "  </thead>\n",
              "  <tbody>\n",
              "    <tr>\n",
              "      <th>Amazon</th>\n",
              "      <td>1229.12</td>\n",
              "    </tr>\n",
              "    <tr>\n",
              "      <th>Beauty</th>\n",
              "      <td>556.08</td>\n",
              "    </tr>\n",
              "    <tr>\n",
              "      <th>Boba</th>\n",
              "      <td>87.72</td>\n",
              "    </tr>\n",
              "    <tr>\n",
              "      <th>Education</th>\n",
              "      <td>94.09</td>\n",
              "    </tr>\n",
              "    <tr>\n",
              "      <th>Government Services</th>\n",
              "      <td>2.00</td>\n",
              "    </tr>\n",
              "    <tr>\n",
              "      <th>Home</th>\n",
              "      <td>1106.18</td>\n",
              "    </tr>\n",
              "    <tr>\n",
              "      <th>Home Improvement</th>\n",
              "      <td>41.22</td>\n",
              "    </tr>\n",
              "    <tr>\n",
              "      <th>Jewelry Supplies</th>\n",
              "      <td>208.89</td>\n",
              "    </tr>\n",
              "    <tr>\n",
              "      <th>Medical Services</th>\n",
              "      <td>375.66</td>\n",
              "    </tr>\n",
              "    <tr>\n",
              "      <th>Merchandise</th>\n",
              "      <td>1587.79</td>\n",
              "    </tr>\n",
              "    <tr>\n",
              "      <th>Restaurants</th>\n",
              "      <td>1013.36</td>\n",
              "    </tr>\n",
              "    <tr>\n",
              "      <th>Services</th>\n",
              "      <td>601.70</td>\n",
              "    </tr>\n",
              "    <tr>\n",
              "      <th>Supermarkets</th>\n",
              "      <td>382.36</td>\n",
              "    </tr>\n",
              "    <tr>\n",
              "      <th>Travel/ Entertainment</th>\n",
              "      <td>569.26</td>\n",
              "    </tr>\n",
              "  </tbody>\n",
              "</table>\n",
              "</div>\n",
              "    <div class=\"colab-df-buttons\">\n",
              "\n",
              "  <div class=\"colab-df-container\">\n",
              "    <button class=\"colab-df-convert\" onclick=\"convertToInteractive('df-8d28d48d-fcee-4c45-9568-47c9f6bc3983')\"\n",
              "            title=\"Convert this dataframe to an interactive table.\"\n",
              "            style=\"display:none;\">\n",
              "\n",
              "  <svg xmlns=\"http://www.w3.org/2000/svg\" height=\"24px\" viewBox=\"0 -960 960 960\">\n",
              "    <path d=\"M120-120v-720h720v720H120Zm60-500h600v-160H180v160Zm220 220h160v-160H400v160Zm0 220h160v-160H400v160ZM180-400h160v-160H180v160Zm440 0h160v-160H620v160ZM180-180h160v-160H180v160Zm440 0h160v-160H620v160Z\"/>\n",
              "  </svg>\n",
              "    </button>\n",
              "\n",
              "  <style>\n",
              "    .colab-df-container {\n",
              "      display:flex;\n",
              "      gap: 12px;\n",
              "    }\n",
              "\n",
              "    .colab-df-convert {\n",
              "      background-color: #E8F0FE;\n",
              "      border: none;\n",
              "      border-radius: 50%;\n",
              "      cursor: pointer;\n",
              "      display: none;\n",
              "      fill: #1967D2;\n",
              "      height: 32px;\n",
              "      padding: 0 0 0 0;\n",
              "      width: 32px;\n",
              "    }\n",
              "\n",
              "    .colab-df-convert:hover {\n",
              "      background-color: #E2EBFA;\n",
              "      box-shadow: 0px 1px 2px rgba(60, 64, 67, 0.3), 0px 1px 3px 1px rgba(60, 64, 67, 0.15);\n",
              "      fill: #174EA6;\n",
              "    }\n",
              "\n",
              "    .colab-df-buttons div {\n",
              "      margin-bottom: 4px;\n",
              "    }\n",
              "\n",
              "    [theme=dark] .colab-df-convert {\n",
              "      background-color: #3B4455;\n",
              "      fill: #D2E3FC;\n",
              "    }\n",
              "\n",
              "    [theme=dark] .colab-df-convert:hover {\n",
              "      background-color: #434B5C;\n",
              "      box-shadow: 0px 1px 3px 1px rgba(0, 0, 0, 0.15);\n",
              "      filter: drop-shadow(0px 1px 2px rgba(0, 0, 0, 0.3));\n",
              "      fill: #FFFFFF;\n",
              "    }\n",
              "  </style>\n",
              "\n",
              "    <script>\n",
              "      const buttonEl =\n",
              "        document.querySelector('#df-8d28d48d-fcee-4c45-9568-47c9f6bc3983 button.colab-df-convert');\n",
              "      buttonEl.style.display =\n",
              "        google.colab.kernel.accessAllowed ? 'block' : 'none';\n",
              "\n",
              "      async function convertToInteractive(key) {\n",
              "        const element = document.querySelector('#df-8d28d48d-fcee-4c45-9568-47c9f6bc3983');\n",
              "        const dataTable =\n",
              "          await google.colab.kernel.invokeFunction('convertToInteractive',\n",
              "                                                    [key], {});\n",
              "        if (!dataTable) return;\n",
              "\n",
              "        const docLinkHtml = 'Like what you see? Visit the ' +\n",
              "          '<a target=\"_blank\" href=https://colab.research.google.com/notebooks/data_table.ipynb>data table notebook</a>'\n",
              "          + ' to learn more about interactive tables.';\n",
              "        element.innerHTML = '';\n",
              "        dataTable['output_type'] = 'display_data';\n",
              "        await google.colab.output.renderOutput(dataTable, element);\n",
              "        const docLink = document.createElement('div');\n",
              "        docLink.innerHTML = docLinkHtml;\n",
              "        element.appendChild(docLink);\n",
              "      }\n",
              "    </script>\n",
              "  </div>\n",
              "\n",
              "\n",
              "<div id=\"df-ed70d22f-8006-49bf-9860-633aa515182e\">\n",
              "  <button class=\"colab-df-quickchart\" onclick=\"quickchart('df-ed70d22f-8006-49bf-9860-633aa515182e')\"\n",
              "            title=\"Suggest charts\"\n",
              "            style=\"display:none;\">\n",
              "\n",
              "<svg xmlns=\"http://www.w3.org/2000/svg\" height=\"24px\"viewBox=\"0 0 24 24\"\n",
              "     width=\"24px\">\n",
              "    <g>\n",
              "        <path d=\"M19 3H5c-1.1 0-2 .9-2 2v14c0 1.1.9 2 2 2h14c1.1 0 2-.9 2-2V5c0-1.1-.9-2-2-2zM9 17H7v-7h2v7zm4 0h-2V7h2v10zm4 0h-2v-4h2v4z\"/>\n",
              "    </g>\n",
              "</svg>\n",
              "  </button>\n",
              "\n",
              "<style>\n",
              "  .colab-df-quickchart {\n",
              "      --bg-color: #E8F0FE;\n",
              "      --fill-color: #1967D2;\n",
              "      --hover-bg-color: #E2EBFA;\n",
              "      --hover-fill-color: #174EA6;\n",
              "      --disabled-fill-color: #AAA;\n",
              "      --disabled-bg-color: #DDD;\n",
              "  }\n",
              "\n",
              "  [theme=dark] .colab-df-quickchart {\n",
              "      --bg-color: #3B4455;\n",
              "      --fill-color: #D2E3FC;\n",
              "      --hover-bg-color: #434B5C;\n",
              "      --hover-fill-color: #FFFFFF;\n",
              "      --disabled-bg-color: #3B4455;\n",
              "      --disabled-fill-color: #666;\n",
              "  }\n",
              "\n",
              "  .colab-df-quickchart {\n",
              "    background-color: var(--bg-color);\n",
              "    border: none;\n",
              "    border-radius: 50%;\n",
              "    cursor: pointer;\n",
              "    display: none;\n",
              "    fill: var(--fill-color);\n",
              "    height: 32px;\n",
              "    padding: 0;\n",
              "    width: 32px;\n",
              "  }\n",
              "\n",
              "  .colab-df-quickchart:hover {\n",
              "    background-color: var(--hover-bg-color);\n",
              "    box-shadow: 0 1px 2px rgba(60, 64, 67, 0.3), 0 1px 3px 1px rgba(60, 64, 67, 0.15);\n",
              "    fill: var(--button-hover-fill-color);\n",
              "  }\n",
              "\n",
              "  .colab-df-quickchart-complete:disabled,\n",
              "  .colab-df-quickchart-complete:disabled:hover {\n",
              "    background-color: var(--disabled-bg-color);\n",
              "    fill: var(--disabled-fill-color);\n",
              "    box-shadow: none;\n",
              "  }\n",
              "\n",
              "  .colab-df-spinner {\n",
              "    border: 2px solid var(--fill-color);\n",
              "    border-color: transparent;\n",
              "    border-bottom-color: var(--fill-color);\n",
              "    animation:\n",
              "      spin 1s steps(1) infinite;\n",
              "  }\n",
              "\n",
              "  @keyframes spin {\n",
              "    0% {\n",
              "      border-color: transparent;\n",
              "      border-bottom-color: var(--fill-color);\n",
              "      border-left-color: var(--fill-color);\n",
              "    }\n",
              "    20% {\n",
              "      border-color: transparent;\n",
              "      border-left-color: var(--fill-color);\n",
              "      border-top-color: var(--fill-color);\n",
              "    }\n",
              "    30% {\n",
              "      border-color: transparent;\n",
              "      border-left-color: var(--fill-color);\n",
              "      border-top-color: var(--fill-color);\n",
              "      border-right-color: var(--fill-color);\n",
              "    }\n",
              "    40% {\n",
              "      border-color: transparent;\n",
              "      border-right-color: var(--fill-color);\n",
              "      border-top-color: var(--fill-color);\n",
              "    }\n",
              "    60% {\n",
              "      border-color: transparent;\n",
              "      border-right-color: var(--fill-color);\n",
              "    }\n",
              "    80% {\n",
              "      border-color: transparent;\n",
              "      border-right-color: var(--fill-color);\n",
              "      border-bottom-color: var(--fill-color);\n",
              "    }\n",
              "    90% {\n",
              "      border-color: transparent;\n",
              "      border-bottom-color: var(--fill-color);\n",
              "    }\n",
              "  }\n",
              "</style>\n",
              "\n",
              "  <script>\n",
              "    async function quickchart(key) {\n",
              "      const quickchartButtonEl =\n",
              "        document.querySelector('#' + key + ' button');\n",
              "      quickchartButtonEl.disabled = true;  // To prevent multiple clicks.\n",
              "      quickchartButtonEl.classList.add('colab-df-spinner');\n",
              "      try {\n",
              "        const charts = await google.colab.kernel.invokeFunction(\n",
              "            'suggestCharts', [key], {});\n",
              "      } catch (error) {\n",
              "        console.error('Error during call to suggestCharts:', error);\n",
              "      }\n",
              "      quickchartButtonEl.classList.remove('colab-df-spinner');\n",
              "      quickchartButtonEl.classList.add('colab-df-quickchart-complete');\n",
              "    }\n",
              "    (() => {\n",
              "      let quickchartButtonEl =\n",
              "        document.querySelector('#df-ed70d22f-8006-49bf-9860-633aa515182e button');\n",
              "      quickchartButtonEl.style.display =\n",
              "        google.colab.kernel.accessAllowed ? 'block' : 'none';\n",
              "    })();\n",
              "  </script>\n",
              "</div>\n",
              "\n",
              "    </div>\n",
              "  </div>\n"
            ]
          },
          "metadata": {},
          "execution_count": 86
        }
      ]
    },
    {
      "cell_type": "code",
      "source": [
        "filtered_amazon = Cat_df.loc[Cat_df[\"sub_category\"] == \"Amazon\"]\n",
        "print(filtered_amazon)"
      ],
      "metadata": {
        "id": "Djo7LdwX4xK1"
      },
      "execution_count": null,
      "outputs": []
    },
    {
      "cell_type": "code",
      "source": [
        "filtered_education = Cat_df.loc[Cat_df[\"sub_category\"] == \"Education\"]\n",
        "print(filtered_education)"
      ],
      "metadata": {
        "id": "FL2WILsM5m1R"
      },
      "execution_count": null,
      "outputs": []
    },
    {
      "cell_type": "markdown",
      "source": [
        "Narrow down the education category into a more descriptive category"
      ],
      "metadata": {
        "id": "eorifmHk8cjg"
      }
    },
    {
      "cell_type": "code",
      "source": [
        "# replace education category with UW\n",
        "Cat_df[\"sub_category\"] = Cat_df[\"sub_category\"].replace(\"Education\", \"UW\")\n",
        "Cat_df[\"sub_category\"].unique()"
      ],
      "metadata": {
        "id": "1lhSsbf-6faP"
      },
      "execution_count": null,
      "outputs": []
    },
    {
      "cell_type": "code",
      "source": [
        "filtered_services = Cat_df.loc[Cat_df[\"sub_category\"] == \"Services\"]\n",
        "print(filtered_services)\n",
        "\n",
        "# put the transaction into correct category\n",
        "Cat_df[\"sub_category\"] = np.where(Cat_df[\"Description\"].str.contains(\"MATCHA\"),\"Restaurants\", Cat_df[\"sub_category\"])\n",
        "Cat_df[\"sub_category\"] = np.where(Cat_df[\"Description\"].str.contains(\"MISHACHARMS\"),\"Merchandise\", Cat_df[\"sub_category\"])"
      ],
      "metadata": {
        "colab": {
          "base_uri": "https://localhost:8080/"
        },
        "id": "2eWg6osk8qyK",
        "outputId": "270d93d8-1146-499b-a137-98153fc582f8"
      },
      "execution_count": 130,
      "outputs": [
        {
          "output_type": "stream",
          "name": "stdout",
          "text": [
            "    Trans. date                                       Description  Amount  \\\n",
            "307  2023-03-09                  SEATTLE METER PARKING SEATTLE WA    5.00   \n",
            "365  2023-05-20  SQ *MISHACHARMS SEATTLE WA0001152921512811398178   24.20   \n",
            "370  2023-05-24                  SEATTLE METER PARKING SEATTLE WA    0.54   \n",
            "371  2023-05-24                  SEATTLE METER PARKING SEATTLE WA    5.00   \n",
            "376  2023-06-01                     LA NA NAIL LOUNGE KIRKLAND WA  108.00   \n",
            "495  2023-11-09                    PARKWHIZ, INC. 888-472-7594 IL   20.00   \n",
            "539  2023-12-30                  T-MOBILE STORE # 0204 SEATTLE WA  421.34   \n",
            "\n",
            "     Category sub_category  \n",
            "307  Services     Services  \n",
            "365  Services     Services  \n",
            "370  Services     Services  \n",
            "371  Services     Services  \n",
            "376  Services     Services  \n",
            "495  Services     Services  \n",
            "539  Services     Services  \n"
          ]
        }
      ]
    },
    {
      "cell_type": "markdown",
      "source": [
        "Matcha Man is now in the Restaurants category\n"
      ],
      "metadata": {
        "id": "QF3GOgbDJ6wO"
      }
    },
    {
      "cell_type": "code",
      "source": [
        "filtered_resturant = Cat_df.loc[Cat_df[\"sub_category\"] == \"Restaurants\"]\n",
        "print(filtered_resturant)"
      ],
      "metadata": {
        "id": "wbNSTQZ6_MrF"
      },
      "execution_count": null,
      "outputs": []
    },
    {
      "cell_type": "markdown",
      "source": [
        "MISHACHARMS is also in the Merchandise category"
      ],
      "metadata": {
        "id": "pwfWTdAYKh26"
      }
    },
    {
      "cell_type": "code",
      "source": [
        "filtered_merch = Cat_df.loc[Cat_df[\"sub_category\"] == \"Merchandise\"]\n",
        "print(filtered_merch)"
      ],
      "metadata": {
        "colab": {
          "base_uri": "https://localhost:8080/"
        },
        "id": "Q1H7c4tVKK2g",
        "outputId": "84c47c05-e1d0-4216-d7d8-56189c0ec7dd"
      },
      "execution_count": 131,
      "outputs": [
        {
          "output_type": "stream",
          "name": "stdout",
          "text": [
            "    Trans. date                                        Description  Amount  \\\n",
            "265  2023-01-07                       ROSS STORES #1319 SEATTLE WA   22.04   \n",
            "276  2023-01-19                       PAYPAL *TEMU 402-935-7733 CA   30.59   \n",
            "278  2023-01-25                   PAYPAL *ETSY INC 402-935-7733 CA   37.20   \n",
            "282  2023-02-04                   PAYPAL *ETSY INC 402-935-7733 CA   62.26   \n",
            "300  2023-02-25                            TJ MAXX #852 EDMONDS WA   44.18   \n",
            "301  2023-02-27                       PAYPAL *TEMU 402-935-7733 CA   28.03   \n",
            "317  2023-03-26                PAYPAL *THREDUP INC 402-935-7733 CA  139.42   \n",
            "321  2023-03-28                         WALGREENS #5950 SEATTLE WA    2.83   \n",
            "344  2023-04-28                               ETSY.COM BROOKLYN NY   51.60   \n",
            "357  2023-05-14                            PACSUN #0530 TUKWILA WA   24.21   \n",
            "365  2023-05-20   SQ *MISHACHARMS SEATTLE WA0001152921512811398178   24.20   \n",
            "367  2023-05-21                PAYPAL *THREDUP INC 402-935-7733 CA   18.27   \n",
            "382  2023-06-07                       ROSS STORES #1319 SEATTLE WA   32.06   \n",
            "386  2023-06-15                PAYPAL *SHOP MISS A 402-935-7733 CA   13.97   \n",
            "389  2023-06-21                       CAKES OF PARADISE SEATTLE WA    6.50   \n",
            "396  2023-06-30                    PAYPAL *EBAY US 402-935-7733 CA   33.28   \n",
            "404  2023-07-13  CROSSROADS TRADING CO- SEATTLE WAAPPLE PAY END...   44.30   \n",
            "415  2023-08-01  HUDSON ST 1504 SEATTLE WAAPPLE PAY ENDING IN 4246   13.08   \n",
            "425  2023-08-05  TOP OF THE ROCK LLC NEW YORK NYAPPLE PAY ENDIN...   10.83   \n",
            "432  2023-08-07  CROSSROADS TRADING COM NEW YORK NYAPPLE PAY EN...   42.22   \n",
            "440  2023-08-09  SLC DF CONCOURSE A USU SALT LAKE CITUTAPPLE PA...   21.52   \n",
            "441  2023-08-11                PAYPAL *APPLIEDLACQ 402-935-7733 CA   62.96   \n",
            "444  2023-08-18                   PAYPAL *ETSY INC 402-935-7733 CA    8.95   \n",
            "453  2023-09-01  ROSS STORES #1319 SEATTLE WAAPPLE PAY ENDING I...    6.60   \n",
            "454  2023-09-01  WALGREENS #5950 SEATTLE WAAPPLE PAY ENDING IN ...    4.94   \n",
            "455  2023-09-01  WALGREENS #5950 SEATTLE WAAPPLE PAY ENDING IN ...   18.27   \n",
            "462  2023-09-07  ROSS STORES #1319 SEATTLE WAAPPLE PAY ENDING I...    5.50   \n",
            "463  2023-09-07  WALGREENS #5950 SEATTLE WAAPPLE PAY ENDING IN ...    0.64   \n",
            "473  2023-09-30    SEATTLE DI SHORELINE WAAPPLE PAY ENDING IN 4246    6.61   \n",
            "494  2023-11-05                PAYPAL *SUGARSHINEM 888-221-1161 CA   35.85   \n",
            "496  2023-11-10         DOLLARTREE KENT WAAPPLE PAY ENDING IN 4246    4.13   \n",
            "504  2023-11-20                PAYPAL *THREDUP INC 402-935-7733 CA   12.94   \n",
            "505  2023-11-21                 PAYPAL *XERO SHOES 402-935-7733 CA  105.79   \n",
            "512  2023-12-02    WALGREENS #3518 KENT WAAPPLE PAY ENDING IN 4246   24.75   \n",
            "517  2023-12-11                PAYPAL *SEPHORA USA 888-221-1161 CA   28.22   \n",
            "518  2023-12-12        DOLLAR TREE KENT WAAPPLE PAY ENDING IN 4246    9.71   \n",
            "519  2023-12-13                 PAYPAL *UNIQLO USA 402-935-7733 CA   76.96   \n",
            "530  2023-12-22                PAYPAL *ELFCOSMETIC 402-935-7733 CA    7.72   \n",
            "533  2023-12-25   REIWATAKIYA LAS VEGAS NVAPPLE PAY ENDING IN 4246   23.72   \n",
            "535  2023-12-25  MINISO DEPOT SHANGHAI PL LAS VEGAS NVAPPLE PAY...    2.16   \n",
            "536  2023-12-26  ARITZIA FORUM SHOPS LAS VEGAS NVAPPLE PAY ENDI...  390.15   \n",
            "538  2023-12-29                 PAYPAL *UNIQLO USA 402-935-7733 CA   65.95   \n",
            "540  2023-12-31                                 DOLLARTREE KENT WA    6.88   \n",
            "\n",
            "        Category sub_category  \n",
            "265  Merchandise  Merchandise  \n",
            "276  Merchandise  Merchandise  \n",
            "278  Merchandise  Merchandise  \n",
            "282  Merchandise  Merchandise  \n",
            "300  Merchandise  Merchandise  \n",
            "301  Merchandise  Merchandise  \n",
            "317  Merchandise  Merchandise  \n",
            "321  Merchandise  Merchandise  \n",
            "344  Merchandise  Merchandise  \n",
            "357  Merchandise  Merchandise  \n",
            "365     Services  Merchandise  \n",
            "367  Merchandise  Merchandise  \n",
            "382  Merchandise  Merchandise  \n",
            "386  Merchandise  Merchandise  \n",
            "389  Merchandise  Merchandise  \n",
            "396  Merchandise  Merchandise  \n",
            "404  Merchandise  Merchandise  \n",
            "415  Merchandise  Merchandise  \n",
            "425  Merchandise  Merchandise  \n",
            "432  Merchandise  Merchandise  \n",
            "440  Merchandise  Merchandise  \n",
            "441  Merchandise  Merchandise  \n",
            "444  Merchandise  Merchandise  \n",
            "453  Merchandise  Merchandise  \n",
            "454  Merchandise  Merchandise  \n",
            "455  Merchandise  Merchandise  \n",
            "462  Merchandise  Merchandise  \n",
            "463  Merchandise  Merchandise  \n",
            "473  Merchandise  Merchandise  \n",
            "494  Merchandise  Merchandise  \n",
            "496  Merchandise  Merchandise  \n",
            "504  Merchandise  Merchandise  \n",
            "505  Merchandise  Merchandise  \n",
            "512  Merchandise  Merchandise  \n",
            "517  Merchandise  Merchandise  \n",
            "518  Merchandise  Merchandise  \n",
            "519  Merchandise  Merchandise  \n",
            "530  Merchandise  Merchandise  \n",
            "533  Merchandise  Merchandise  \n",
            "535  Merchandise  Merchandise  \n",
            "536  Merchandise  Merchandise  \n",
            "538  Merchandise  Merchandise  \n",
            "540  Merchandise  Merchandise  \n"
          ]
        }
      ]
    },
    {
      "cell_type": "code",
      "source": [
        "filtered_markets = Cat_df.loc[Cat_df[\"sub_category\"] == \"Supermarkets\"]\n",
        "print(filtered_markets)"
      ],
      "metadata": {
        "colab": {
          "base_uri": "https://localhost:8080/"
        },
        "id": "qv10e6GA_i6Y",
        "outputId": "849a23aa-0a13-4f64-8bc6-52ed43396a6c"
      },
      "execution_count": 132,
      "outputs": [
        {
          "output_type": "stream",
          "name": "stdout",
          "text": [
            "    Trans. date                                        Description  Amount  \\\n",
            "266  2023-01-07                       TARGET 00022905091 RENTON WA    6.15   \n",
            "308  2023-03-09                       TRADER JOE S #137 SEATTLE WA   19.15   \n",
            "325  2023-03-30                             QFC #5816 SHORELINE WA    7.98   \n",
            "328  2023-03-30  SQ *ASIAN FAMILY MARKE SEATTLE WA0001152921512...   49.85   \n",
            "334  2023-04-06                     TRADER JOE S #270 SHORELINE WA   28.80   \n",
            "360  2023-05-17  SQ *THE CANDY DIVA SEATTLE WA00023058430176095...   10.00   \n",
            "383  2023-06-07                           SAFEWAY #1508 SEATTLE WA   24.26   \n",
            "424  2023-08-05  SQ *NEW YORK GIFTS & S NEW YORK NYAPPLE PAY EN...    8.93   \n",
            "431  2023-08-06      TESO MINI NEW YORK NYAPPLE PAY ENDING IN 4246   43.76   \n",
            "448  2023-08-25  TRADER JOE S #270 SHORELINE WAAPPLE PAY ENDING...   30.21   \n",
            "449  2023-08-28   SAFEWAY #1508 SEATTLE WAAPPLE PAY ENDING IN 4246   15.42   \n",
            "461  2023-09-05  TRADER JOE S #270 SHORELINE WAAPPLE PAY ENDING...   14.43   \n",
            "468  2023-09-23  SQ *MEHNDI MADNESS INC PUYALLUP WA000115292151...   18.50   \n",
            "481  2023-10-05  SQ *ROYCE' WASHINGTON SEATTLE WA00011529215132...   35.99   \n",
            "497  2023-11-10                              SAFEWAY #1294 KENT WA   19.81   \n",
            "498  2023-11-11  BYBLOS MARKET KENT KENT WAAPPLE PAY ENDING IN ...    2.99   \n",
            "502  2023-11-18  TRADER JOE S #163 KENT WAAPPLE PAY ENDING IN 4246    3.99   \n",
            "511  2023-12-02  ASIAN PACIFIC MARKET IN KENT WAAPPLE PAY ENDIN...   26.28   \n",
            "515  2023-12-07  CARPINITO BROTHERS KENT WAAPPLE PAY ENDING IN ...    2.63   \n",
            "524  2023-12-17  SQ *INDIGO COW SEATTLE WAAPPLE PAY ENDING IN 4...   13.23   \n",
            "\n",
            "         Category  sub_category  \n",
            "266  Supermarkets  Supermarkets  \n",
            "308  Supermarkets  Supermarkets  \n",
            "325  Supermarkets  Supermarkets  \n",
            "328  Supermarkets  Supermarkets  \n",
            "334  Supermarkets  Supermarkets  \n",
            "360  Supermarkets  Supermarkets  \n",
            "383  Supermarkets  Supermarkets  \n",
            "424  Supermarkets  Supermarkets  \n",
            "431  Supermarkets  Supermarkets  \n",
            "448  Supermarkets  Supermarkets  \n",
            "449  Supermarkets  Supermarkets  \n",
            "461  Supermarkets  Supermarkets  \n",
            "468  Supermarkets  Supermarkets  \n",
            "481  Supermarkets  Supermarkets  \n",
            "497  Supermarkets  Supermarkets  \n",
            "498  Supermarkets  Supermarkets  \n",
            "502  Supermarkets  Supermarkets  \n",
            "511  Supermarkets  Supermarkets  \n",
            "515  Supermarkets  Supermarkets  \n",
            "524  Supermarkets  Supermarkets  \n"
          ]
        }
      ]
    },
    {
      "cell_type": "code",
      "source": [
        "filtered_travel = Cat_df.loc[Cat_df[\"sub_category\"] == \"Travel/ Entertainment\"]\n",
        "print(filtered_travel)"
      ],
      "metadata": {
        "id": "LYGuFI4v_1C7"
      },
      "execution_count": null,
      "outputs": []
    },
    {
      "cell_type": "markdown",
      "source": [
        "Export the Excel"
      ],
      "metadata": {
        "id": "ZGS_Me_YKyqy"
      }
    },
    {
      "cell_type": "code",
      "source": [
        "Cat_df.to_excel('Clean_Discover.xlsx', index=False)"
      ],
      "metadata": {
        "id": "Ajjdu6QyKs3t"
      },
      "execution_count": 135,
      "outputs": []
    }
  ]
}